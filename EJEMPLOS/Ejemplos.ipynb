{
 "metadata": {
  "language_info": {
   "codemirror_mode": {
    "name": "ipython",
    "version": 3
   },
   "file_extension": ".py",
   "mimetype": "text/x-python",
   "name": "python",
   "nbconvert_exporter": "python",
   "pygments_lexer": "ipython3",
   "version": 3
  },
  "orig_nbformat": 2,
  "kernelspec": {
   "name": "python_defaultSpec_1596618957288",
   "display_name": "Python 3.8.3 64-bit"
  }
 },
 "nbformat": 4,
 "nbformat_minor": 2,
 "cells": [
  {
   "cell_type": "code",
   "execution_count": null,
   "metadata": {
    "tags": []
   },
   "outputs": [],
   "source": [
    "'''\n",
    "\n",
    "estos ejemplos sirven para tener\n",
    "un código más bonito\n",
    "\n",
    "'''\n",
    "\n",
    "condition = True\n",
    "\n",
    "x = 1 if condition else 0 #puede incluirse todo en una línea\n",
    "\n",
    "print(x)"
   ]
  },
  {
   "cell_type": "code",
   "execution_count": null,
   "metadata": {
    "tags": []
   },
   "outputs": [],
   "source": [
    "num1 = 10_000_000_000 #para una mejor lectura, se pueden separar mediante el guión bajo.\n",
    "num2 = 10_000_000_000\n",
    "\n",
    "total = num1 + num2\n",
    "\n",
    "print(total)"
   ]
  },
  {
   "cell_type": "code",
   "execution_count": null,
   "metadata": {},
   "outputs": [],
   "source": [
    "with open('test.txt', 'r') as f: # la f es la variable.\n",
    "file_contents = f.read()\n",
    "\n",
    "words = file_contents.split(' ')\n",
    "word_count = len(words)\n",
    "\n",
    "print(word_count)"
   ]
  },
  {
   "cell_type": "code",
   "execution_count": null,
   "metadata": {
    "tags": []
   },
   "outputs": [],
   "source": [
    "names =['Corey', 'Chirs', 'Dave', 'Travis']\n",
    "'''\n",
    "index = 0\n",
    "\n",
    "for name in names:\n",
    "    print(index,name)\n",
    "    index += 1\n",
    "'''    \n",
    "for index, name in enumerate(names, start=1):\n",
    "    print(index,name)    \n",
    "\n"
   ]
  },
  {
   "cell_type": "code",
   "execution_count": null,
   "metadata": {
    "tags": []
   },
   "outputs": [],
   "source": [
    "names = ['Peter Parker', 'Clark Kent', 'Wade Wilon', 'Bruce Wayne']\n",
    "heroes = ['Spiderman', 'Superman', 'Deadpool', 'Batman']\n",
    "universe = ['Marvel', 'DC', 'Marvel', 'DC']\n",
    "'''\n",
    "for index, name in enumerate(names):\n",
    "    hero = heroes[index]\n",
    "    print(f'{hero} actualmente es {name}') \n",
    "\n",
    "for name, hero, universe in zip(names, heroes, universe):\n",
    "    print(f'{hero} actualmente es {name} que pertenece al universo {universe}')\n",
    "'''\n",
    "for value in zip(names, heroes, universe):\n",
    "    print(value)"
   ]
  },
  {
   "cell_type": "code",
   "execution_count": null,
   "metadata": {
    "tags": []
   },
   "outputs": [],
   "source": [
    "a, b, *c = (1,2,3,4,5)\n",
    "print(a)\n",
    "print(b)\n",
    "print(c)"
   ]
  },
  {
   "cell_type": "code",
   "execution_count": 18,
   "metadata": {
    "tags": []
   },
   "outputs": [
    {
     "output_type": "stream",
     "name": "stdout",
     "text": "Loguin in...\n"
    }
   ],
   "source": [
    "#passwords\n",
    "\n",
    "from getpass import getpass\n",
    "'''\n",
    "username = input('Username: ')\n",
    "password = input('Password: ') #en éste ejemplo se ve la contraseña, no es útil.\n",
    "'''\n",
    "#es mejor usar éste otro \n",
    "username = input('Username: ')\n",
    "password = getpass('Password: ') \n",
    "print('Loguin in...')"
   ]
  },
  {
   "cell_type": "code",
   "execution_count": 22,
   "metadata": {
    "tags": []
   },
   "outputs": [
    {
     "output_type": "stream",
     "name": "stdout",
     "text": "Gracias por usar nuestro servicio, nos vemos pronto, chao.\n"
    }
   ],
   "source": [
    "#practica del walrus\n",
    "\n",
    "lista = ['Spiderman', 'Batman', 'Superman']\n",
    "while (héroes := input('qué heroe elijes?: ')) != 'q':\n",
    "    if héroes == '1':\n",
    "         print(f'Tu héroe es {lista[0]}')\n",
    "    elif héroes == '2':\n",
    "         print(f'Tu héroe es {lista[1]}')\n",
    "    else:\n",
    "         print(f'Tu héroe es {lista[2]}')\n",
    "print('Gracias por usar nuestro servicio, nos vemos pronto, chao.')                   \n",
    "\n",
    "    "
   ]
  },
  {
   "cell_type": "code",
   "execution_count": null,
   "metadata": {},
   "outputs": [],
   "source": []
  }
 ]
}