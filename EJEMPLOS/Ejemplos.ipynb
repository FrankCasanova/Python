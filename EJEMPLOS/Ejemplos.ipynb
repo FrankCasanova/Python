{
 "metadata": {
  "language_info": {
   "codemirror_mode": {
    "name": "ipython",
    "version": 3
   },
   "file_extension": ".py",
   "mimetype": "text/x-python",
   "name": "python",
   "nbconvert_exporter": "python",
   "pygments_lexer": "ipython3",
   "version": "3.8.6-final"
  },
  "orig_nbformat": 2,
  "kernelspec": {
   "name": "Python 3.8.6 64-bit",
   "display_name": "Python 3.8.6 64-bit",
   "metadata": {
    "interpreter": {
     "hash": "3f166c2e6c09a1a32424613e6f3f2ea2d682f3f75e707da5914e4901644505db"
    }
   }
  }
 },
 "nbformat": 4,
 "nbformat_minor": 2,
 "cells": [
  {
   "cell_type": "code",
   "execution_count": null,
   "metadata": {
    "tags": []
   },
   "outputs": [],
   "source": [
    "'''\n",
    "\n",
    "estos ejemplos sirven para tener\n",
    "un código más bonito\n",
    "\n",
    "'''\n",
    "\n",
    "condition = True\n",
    "\n",
    "x = 1 if condition else 0 #puede incluirse todo en una línea\n",
    "\n",
    "print(x)"
   ]
  },
  {
   "cell_type": "code",
   "execution_count": null,
   "metadata": {
    "tags": []
   },
   "outputs": [],
   "source": [
    "num1 = 10_000_000_000 #para una mejor lectura, se pueden separar mediante el guión bajo.\n",
    "num2 = 10_000_000_000\n",
    "\n",
    "total = num1 + num2\n",
    "\n",
    "print(total)"
   ]
  },
  {
   "cell_type": "code",
   "execution_count": null,
   "metadata": {},
   "outputs": [],
   "source": [
    "with open('test.txt', 'r') as f: # la f es la variable.\n",
    "file_contents = f.read()\n",
    "\n",
    "words = file_contents.split(' ')\n",
    "word_count = len(words)\n",
    "\n",
    "print(word_count)"
   ]
  },
  {
   "cell_type": "code",
   "execution_count": null,
   "metadata": {
    "tags": []
   },
   "outputs": [],
   "source": [
    "names =['Corey', 'Chirs', 'Dave', 'Travis']\n",
    "'''\n",
    "index = 0\n",
    "\n",
    "for name in names:\n",
    "    print(index,name)\n",
    "    index += 1\n",
    "'''    \n",
    "for index, name in enumerate(names, start=1):\n",
    "    print(index,name)    \n",
    "\n"
   ]
  },
  {
   "cell_type": "code",
   "execution_count": null,
   "metadata": {
    "tags": []
   },
   "outputs": [],
   "source": [
    "a, b, *c = (1,2,3,4,5)\n",
    "print(a)\n",
    "print(b)\n",
    "print(c)"
   ]
  },
  {
   "cell_type": "code",
   "execution_count": null,
   "metadata": {
    "tags": []
   },
   "outputs": [],
   "source": [
    "#passwords\n",
    "\n",
    "from getpass import getpass\n",
    "'''\n",
    "username = input('Username: ')\n",
    "password = input('Password: ') #en éste ejemplo se ve la contraseña, no es útil.\n",
    "'''\n",
    "#es mejor usar éste otro \n",
    "username = input('Username: ')\n",
    "password = getpass('Password: ') \n",
    "print('Loguin in...')"
   ]
  },
  {
   "cell_type": "code",
   "execution_count": null,
   "metadata": {
    "tags": []
   },
   "outputs": [],
   "source": [
    "#practica del walrus\n",
    "\n",
    "lista = ['Spiderman', 'Batman', 'Superman']\n",
    "while (héroes := input('qué heroe elijes?: ')) != 'q':\n",
    "    if héroes == '1':\n",
    "         print(f'Tu héroe es {lista[0]}')\n",
    "    elif héroes == '2':\n",
    "         print(f'Tu héroe es {lista[1]}')\n",
    "    else:\n",
    "         print(f'Tu héroe es {lista[2]}')\n",
    "print('Gracias por usar nuestro servicio, nos vemos pronto, chao.')                   \n",
    "\n",
    "    "
   ]
  },
  {
   "cell_type": "code",
   "execution_count": null,
   "metadata": {},
   "outputs": [],
   "source": [
    "a = list(range(1,4))\n",
    "\n",
    "a = [i*i for i in range(len(a))]\n",
    "    \n",
    "print(a)    \n",
    "\n",
    "'''\n",
    "este ejemplo muestra que podemos indicar\n",
    "lo que queremos hacer antes de ejecutar el bucle for\n",
    "antes de usar el tipico buble for\n",
    "le da una elegancia exquisita.\n",
    "'''"
   ]
  },
  {
   "cell_type": "code",
   "execution_count": null,
   "metadata": {},
   "outputs": [],
   "source": [
    "try:\n",
    "\n",
    "    while (final := int(input('Por favor, indique el valor final de la lista:   \\n (presiona una tecla que no sea númerica para salir.\\n número: ')))       and isinstance(final,int):\n",
    "        \n",
    "        \n",
    "            a = list(range(1,final))\n",
    "\n",
    "            a = [i*i for i in range(len(a))]\n",
    "\n",
    "            print(a)\n",
    "\n",
    "except ValueError:\n",
    "    print('gracias por usar nuestro servicio')  "
   ]
  },
  {
   "cell_type": "code",
   "execution_count": null,
   "metadata": {
    "tags": []
   },
   "outputs": [],
   "source": []
  },
  {
   "cell_type": "code",
   "execution_count": null,
   "metadata": {},
   "outputs": [],
   "source": []
  }
 ]
}